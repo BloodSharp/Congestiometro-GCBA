{
 "cells": [
  {
   "cell_type": "code",
   "execution_count": 1,
   "metadata": {},
   "outputs": [],
   "source": [
    "from datetime import datetime\n",
    "import tensorflow as tf"
   ]
  },
  {
   "cell_type": "code",
   "execution_count": null,
   "metadata": {},
   "outputs": [],
   "source": [
    "test_date = \"2022-01-30 00:00:00\"\n",
    "\n",
    "date_as_datetime = datetime.strptime(test_date, \"%Y-%m-%d %H:%M:%S\")\n",
    "print(date_as_datetime.weekday())\n",
    "print(date_as_datetime.isocalendar().week)\n",
    "print(date_as_datetime.isocalendar().weekday)"
   ]
  },
  {
   "cell_type": "code",
   "execution_count": null,
   "metadata": {},
   "outputs": [],
   "source": [
    "try:\n",
    "    model = tf.keras.models.load_model(\"../model\")\n",
    "except:\n",
    "    print(\"No se pudo cargar el modelo.\")\n",
    "\n",
    "print(\"Configuración:\" + \"\\n\"*2)\n",
    "print(model.get_config())\n",
    "print(\"Resumen\" + \"\\n\"*2)\n",
    "print(model.summary())"
   ]
  }
 ],
 "metadata": {
  "kernelspec": {
   "display_name": "Python 3",
   "language": "python",
   "name": "python3"
  },
  "language_info": {
   "codemirror_mode": {
    "name": "ipython",
    "version": 3
   },
   "file_extension": ".py",
   "mimetype": "text/x-python",
   "name": "python",
   "nbconvert_exporter": "python",
   "pygments_lexer": "ipython3",
   "version": "3.10.12"
  }
 },
 "nbformat": 4,
 "nbformat_minor": 2
}
